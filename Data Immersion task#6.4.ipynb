{
 "cells": [
  {
   "cell_type": "markdown",
   "id": "ae220a21",
   "metadata": {},
   "source": [
    "# Importing Libraries and data sets."
   ]
  },
  {
   "cell_type": "code",
   "execution_count": 1,
   "id": "b5bbbc36",
   "metadata": {},
   "outputs": [],
   "source": [
    "# Importing libaries and modules\n",
    "import pandas as pd\n",
    "import numpy as np\n",
    "import seaborn as sns\n",
    "import matplotlib.pyplot as plt\n",
    "import matplotlib\n",
    "import os\n",
    "import folium\n",
    "import json\n",
    "import sklearn\n",
    "from sklearn.model_selection import train_test_split \n",
    "from sklearn.linear_model import LinearRegression\n",
    "from sklearn.metrics import mean_squared_error, r2_score"
   ]
  },
  {
   "cell_type": "code",
   "execution_count": 2,
   "id": "e078c055",
   "metadata": {},
   "outputs": [],
   "source": [
    "%matplotlib inline"
   ]
  },
  {
   "cell_type": "code",
   "execution_count": 3,
   "id": "ed408127",
   "metadata": {},
   "outputs": [],
   "source": [
    "# The code below will create a path that will help import the dataframe for analysis.\n",
    "path_fifa21_new = r'/Users/robertochidiac/Desktop/CareerFoundry Achievement 6/Data/prepared data/fifa21_data_set.csv'"
   ]
  },
  {
   "cell_type": "code",
   "execution_count": 4,
   "id": "4658d899",
   "metadata": {},
   "outputs": [],
   "source": [
    "# the code below will import the data\n",
    "df_fifa21_new = pd.read_csv(os.path.join(path_fifa21_new), index_col = False)"
   ]
  },
  {
   "cell_type": "code",
   "execution_count": 6,
   "id": "abe62b3b",
   "metadata": {},
   "outputs": [
    {
     "data": {
      "text/html": [
       "<div>\n",
       "<style scoped>\n",
       "    .dataframe tbody tr th:only-of-type {\n",
       "        vertical-align: middle;\n",
       "    }\n",
       "\n",
       "    .dataframe tbody tr th {\n",
       "        vertical-align: top;\n",
       "    }\n",
       "\n",
       "    .dataframe thead th {\n",
       "        text-align: right;\n",
       "    }\n",
       "</style>\n",
       "<table border=\"1\" class=\"dataframe\">\n",
       "  <thead>\n",
       "    <tr style=\"text-align: right;\">\n",
       "      <th></th>\n",
       "      <th>short_name</th>\n",
       "      <th>age</th>\n",
       "      <th>dob</th>\n",
       "      <th>height_cm</th>\n",
       "      <th>weight_kg</th>\n",
       "      <th>country</th>\n",
       "      <th>club_name</th>\n",
       "      <th>league_name</th>\n",
       "      <th>overall_performance</th>\n",
       "      <th>potential_performance</th>\n",
       "      <th>value_eur</th>\n",
       "      <th>wage_eur</th>\n",
       "      <th>preferred_foot</th>\n",
       "      <th>weak_foot</th>\n",
       "      <th>release_clause_eur</th>\n",
       "      <th>player_position</th>\n",
       "      <th>team_jersey_number</th>\n",
       "      <th>joined_team</th>\n",
       "      <th>contract_valid_until</th>\n",
       "    </tr>\n",
       "  </thead>\n",
       "  <tbody>\n",
       "    <tr>\n",
       "      <th>0</th>\n",
       "      <td>L. Messi</td>\n",
       "      <td>33</td>\n",
       "      <td>6/24/87</td>\n",
       "      <td>170</td>\n",
       "      <td>72</td>\n",
       "      <td>Argentina</td>\n",
       "      <td>FC Barcelona</td>\n",
       "      <td>Spain Primera Division</td>\n",
       "      <td>93</td>\n",
       "      <td>93</td>\n",
       "      <td>67500000</td>\n",
       "      <td>560000</td>\n",
       "      <td>Left</td>\n",
       "      <td>4</td>\n",
       "      <td>138400000.0</td>\n",
       "      <td>CAM</td>\n",
       "      <td>10.0</td>\n",
       "      <td>7/1/04</td>\n",
       "      <td>2021.0</td>\n",
       "    </tr>\n",
       "    <tr>\n",
       "      <th>1</th>\n",
       "      <td>Cristiano Ronaldo</td>\n",
       "      <td>35</td>\n",
       "      <td>2/5/85</td>\n",
       "      <td>187</td>\n",
       "      <td>83</td>\n",
       "      <td>Portugal</td>\n",
       "      <td>Juventus</td>\n",
       "      <td>Italian Serie A</td>\n",
       "      <td>92</td>\n",
       "      <td>92</td>\n",
       "      <td>46000000</td>\n",
       "      <td>220000</td>\n",
       "      <td>Right</td>\n",
       "      <td>4</td>\n",
       "      <td>75900000.0</td>\n",
       "      <td>LS</td>\n",
       "      <td>7.0</td>\n",
       "      <td>7/10/18</td>\n",
       "      <td>2022.0</td>\n",
       "    </tr>\n",
       "    <tr>\n",
       "      <th>2</th>\n",
       "      <td>J. Oblak</td>\n",
       "      <td>27</td>\n",
       "      <td>1/7/93</td>\n",
       "      <td>188</td>\n",
       "      <td>87</td>\n",
       "      <td>Slovenia</td>\n",
       "      <td>Atlético Madrid</td>\n",
       "      <td>Spain Primera Division</td>\n",
       "      <td>91</td>\n",
       "      <td>93</td>\n",
       "      <td>75000000</td>\n",
       "      <td>125000</td>\n",
       "      <td>Right</td>\n",
       "      <td>3</td>\n",
       "      <td>159400000.0</td>\n",
       "      <td>GK</td>\n",
       "      <td>13.0</td>\n",
       "      <td>7/16/14</td>\n",
       "      <td>2023.0</td>\n",
       "    </tr>\n",
       "    <tr>\n",
       "      <th>3</th>\n",
       "      <td>R. Lewandowski</td>\n",
       "      <td>31</td>\n",
       "      <td>8/21/88</td>\n",
       "      <td>184</td>\n",
       "      <td>80</td>\n",
       "      <td>Poland</td>\n",
       "      <td>FC Bayern München</td>\n",
       "      <td>German 1. Bundesliga</td>\n",
       "      <td>91</td>\n",
       "      <td>91</td>\n",
       "      <td>80000000</td>\n",
       "      <td>240000</td>\n",
       "      <td>Right</td>\n",
       "      <td>4</td>\n",
       "      <td>132000000.0</td>\n",
       "      <td>ST</td>\n",
       "      <td>9.0</td>\n",
       "      <td>7/1/14</td>\n",
       "      <td>2023.0</td>\n",
       "    </tr>\n",
       "    <tr>\n",
       "      <th>4</th>\n",
       "      <td>Neymar Jr</td>\n",
       "      <td>28</td>\n",
       "      <td>2/5/92</td>\n",
       "      <td>175</td>\n",
       "      <td>68</td>\n",
       "      <td>Brazil</td>\n",
       "      <td>Paris Saint-Germain</td>\n",
       "      <td>French Ligue 1</td>\n",
       "      <td>91</td>\n",
       "      <td>91</td>\n",
       "      <td>90000000</td>\n",
       "      <td>270000</td>\n",
       "      <td>Right</td>\n",
       "      <td>5</td>\n",
       "      <td>166500000.0</td>\n",
       "      <td>LW</td>\n",
       "      <td>10.0</td>\n",
       "      <td>8/3/17</td>\n",
       "      <td>2022.0</td>\n",
       "    </tr>\n",
       "  </tbody>\n",
       "</table>\n",
       "</div>"
      ],
      "text/plain": [
       "          short_name  age      dob  height_cm  weight_kg    country  \\\n",
       "0           L. Messi   33  6/24/87        170         72  Argentina   \n",
       "1  Cristiano Ronaldo   35   2/5/85        187         83   Portugal   \n",
       "2           J. Oblak   27   1/7/93        188         87   Slovenia   \n",
       "3     R. Lewandowski   31  8/21/88        184         80     Poland   \n",
       "4          Neymar Jr   28   2/5/92        175         68     Brazil   \n",
       "\n",
       "             club_name             league_name  overall_performance  \\\n",
       "0         FC Barcelona  Spain Primera Division                   93   \n",
       "1             Juventus         Italian Serie A                   92   \n",
       "2      Atlético Madrid  Spain Primera Division                   91   \n",
       "3    FC Bayern München    German 1. Bundesliga                   91   \n",
       "4  Paris Saint-Germain          French Ligue 1                   91   \n",
       "\n",
       "   potential_performance  value_eur  wage_eur preferred_foot  weak_foot  \\\n",
       "0                     93   67500000    560000           Left          4   \n",
       "1                     92   46000000    220000          Right          4   \n",
       "2                     93   75000000    125000          Right          3   \n",
       "3                     91   80000000    240000          Right          4   \n",
       "4                     91   90000000    270000          Right          5   \n",
       "\n",
       "   release_clause_eur player_position  team_jersey_number joined_team  \\\n",
       "0         138400000.0             CAM                10.0      7/1/04   \n",
       "1          75900000.0              LS                 7.0     7/10/18   \n",
       "2         159400000.0              GK                13.0     7/16/14   \n",
       "3         132000000.0              ST                 9.0      7/1/14   \n",
       "4         166500000.0              LW                10.0      8/3/17   \n",
       "\n",
       "   contract_valid_until  \n",
       "0                2021.0  \n",
       "1                2022.0  \n",
       "2                2023.0  \n",
       "3                2023.0  \n",
       "4                2022.0  "
      ]
     },
     "execution_count": 6,
     "metadata": {},
     "output_type": "execute_result"
    }
   ],
   "source": [
    "# The code below will show the first five rows of the data frame\n",
    "df_fifa21_new.head().drop(['Unnamed: 0'], axis = 1)"
   ]
  },
  {
   "cell_type": "markdown",
   "id": "6e44b695",
   "metadata": {},
   "source": [
    "### The data we have above is the cleaned version we had from the previous assignment."
   ]
  },
  {
   "cell_type": "markdown",
   "id": "7407dbfb",
   "metadata": {},
   "source": [
    "# Explore your data visually (e.g., by way of a scatterplot), looking for variables whose relationship you’d like to test."
   ]
  },
  {
   "cell_type": "code",
   "execution_count": 25,
   "id": "367de5d5",
   "metadata": {},
   "outputs": [
    {
     "data": {
      "image/png": "[encoded data removed]",
      "text/plain": [
       "<Figure size 432x288 with 1 Axes>"
      ]
     },
     "metadata": {
      "needs_background": "light"
     },
     "output_type": "display_data"
    }
   ],
   "source": [
    "# The data below will create a scatterplot using matplotlib showing the relationship between the variables 'value_eur' and 'release_clause_eur'.\n",
    "df_fifa21_new.plot(x = 'value_eur', y = 'overall_performance', style ='o')\n",
    "plt.title('players value_eur vs players performance')\n",
    "plt.xlabel('value_eur')\n",
    "plt.ylabel('overall_performance')\n",
    "plt.show()"
   ]
  },
  {
   "cell_type": "markdown",
   "id": "486366c2",
   "metadata": {},
   "source": [
    "# State your hypothesis in a markdown cell within your Jupyter notebook."
   ]
  },
  {
   "cell_type": "markdown",
   "id": "84bbe9a4",
   "metadata": {},
   "source": [
    "### The hypothesis I will define at this point giving the scatterplot is that: as the value for the player increase so does his performance."
   ]
  },
  {
   "cell_type": "markdown",
   "id": "a0648f42",
   "metadata": {},
   "source": [
    "# Reshape the variables into NumPy arrays, with X being the independent variable and y being the dependent variable."
   ]
  },
  {
   "cell_type": "code",
   "execution_count": 26,
   "id": "13e785fe",
   "metadata": {},
   "outputs": [],
   "source": [
    "# The code below will reshape the variables into numpy arrays and put them in X and y object respectively.\n",
    "X = df_fifa21_new['value_eur'].values.reshape(-1,1)\n",
    "y = df_fifa21_new['overall_performance'].values.reshape(-1,1)"
   ]
  },
  {
   "cell_type": "code",
   "execution_count": 27,
   "id": "545c45fc",
   "metadata": {},
   "outputs": [
    {
     "data": {
      "text/plain": [
       "array([[67500000],\n",
       "       [46000000],\n",
       "       [75000000],\n",
       "       ...,\n",
       "       [   35000],\n",
       "       [   40000],\n",
       "       [   30000]])"
      ]
     },
     "execution_count": 27,
     "metadata": {},
     "output_type": "execute_result"
    }
   ],
   "source": [
    "X"
   ]
  },
  {
   "cell_type": "code",
   "execution_count": 28,
   "id": "ef0675cc",
   "metadata": {},
   "outputs": [
    {
     "data": {
      "text/plain": [
       "array([[93],\n",
       "       [92],\n",
       "       [91],\n",
       "       ...,\n",
       "       [47],\n",
       "       [47],\n",
       "       [47]])"
      ]
     },
     "execution_count": 28,
     "metadata": {},
     "output_type": "execute_result"
    }
   ],
   "source": [
    "y"
   ]
  },
  {
   "cell_type": "markdown",
   "id": "e8e127d8",
   "metadata": {},
   "source": [
    "# Split the data into two sets: a training set and a test set."
   ]
  },
  {
   "cell_type": "code",
   "execution_count": 29,
   "id": "0c9b1e4b",
   "metadata": {},
   "outputs": [],
   "source": [
    "# The code below will split the data into training and test set.\n",
    "X_train, X_test, y_train, y_test = train_test_split(X, y, test_size = 0.3, random_state = 0)"
   ]
  },
  {
   "cell_type": "markdown",
   "id": "66f25d47",
   "metadata": {},
   "source": [
    "# Run a linear regression on the data."
   ]
  },
  {
   "cell_type": "code",
   "execution_count": 30,
   "id": "cf36f2cc",
   "metadata": {},
   "outputs": [],
   "source": [
    "# To start the regresssion analysis we will run the code below, which will create the regression object.\n",
    "regression = LinearRegression()"
   ]
  },
  {
   "cell_type": "markdown",
   "id": "238d74bc",
   "metadata": {},
   "source": [
    "# Fit the model you created to the training set."
   ]
  },
  {
   "cell_type": "code",
   "execution_count": 31,
   "id": "5d1b39df",
   "metadata": {},
   "outputs": [
    {
     "data": {
      "text/plain": [
       "LinearRegression()"
      ]
     },
     "execution_count": 31,
     "metadata": {},
     "output_type": "execute_result"
    }
   ],
   "source": [
    "# The code below will fit the regression object createed above into the training set.\n",
    "regression.fit(X_train, y_train)"
   ]
  },
  {
   "cell_type": "markdown",
   "id": "bd611569",
   "metadata": {},
   "source": [
    "# Create a prediction for y on the test set."
   ]
  },
  {
   "cell_type": "code",
   "execution_count": 32,
   "id": "9c04f226",
   "metadata": {},
   "outputs": [],
   "source": [
    "# The code below will give us a prediction of the value of y using the x_test.\n",
    "y_predicted = regression.predict(X_test)"
   ]
  },
  {
   "cell_type": "markdown",
   "id": "3c8f498a",
   "metadata": {},
   "source": [
    "# Create a plot that shows the regression line on the test set."
   ]
  },
  {
   "cell_type": "code",
   "execution_count": 38,
   "id": "c9a9a63f",
   "metadata": {},
   "outputs": [
    {
     "data": {
      "image/png": "[encoded data removed]",
      "text/plain": [
       "<Figure size 432x288 with 1 Axes>"
      ]
     },
     "metadata": {
      "needs_background": "light"
     },
     "output_type": "display_data"
    }
   ],
   "source": [
    "# The code below will create the plot that will show the regression line for the test set\n",
    "plot_test = plt\n",
    "plot_test.scatter(X_test, y_test, color='gray', s = 15)\n",
    "plot_test.plot(X_test, y_predicted, color='red', linewidth =3)\n",
    "plot_test.title('players value_eur vs players performance (Test set)')\n",
    "plot_test.xlabel('value_eur')\n",
    "plot_test.ylabel('overall_performance')\n",
    "plot_test.show()"
   ]
  },
  {
   "cell_type": "markdown",
   "id": "0e287843",
   "metadata": {},
   "source": [
    "# Write your own interpretation of how well the line appears to fit the data in a markdown cell."
   ]
  },
  {
   "cell_type": "markdown",
   "id": "398bb3e9",
   "metadata": {},
   "source": [
    "### At first glnace at the plot above we can see that there is a weak positive relationship between the two variables, and that some of the points seems to be concentrated at the beginning. Then the slopes flattens and the data points are not arround the line anymore. It doesn't seems to be a great fit."
   ]
  },
  {
   "cell_type": "markdown",
   "id": "c6465cfd",
   "metadata": {},
   "source": [
    "# Check the model performance statistics—MSE and R2."
   ]
  },
  {
   "cell_type": "code",
   "execution_count": 34,
   "id": "0093891c",
   "metadata": {},
   "outputs": [],
   "source": [
    "# The codes below will create the object that will contain and show us the performance statistics of the data.\n",
    "rmse = mean_squared_error(y_test, y_predicted)\n",
    "r2 = r2_score(y_test, y_predicted)"
   ]
  },
  {
   "cell_type": "code",
   "execution_count": 35,
   "id": "fc6211bd",
   "metadata": {},
   "outputs": [
    {
     "name": "stdout",
     "output_type": "stream",
     "text": [
      "Slope: [[8.55034722e-07]]\n",
      "Mean squared error:  29.019242289719305\n",
      "R2 score:  0.412836815024644\n"
     ]
    }
   ],
   "source": [
    "print('Slope:' ,regression.coef_)\n",
    "print('Mean squared error: ', rmse)\n",
    "print('R2 score: ', r2)"
   ]
  },
  {
   "cell_type": "markdown",
   "id": "a57cdf9b",
   "metadata": {},
   "source": [
    "# Compare the predicted y values with the actual y values in a dataframe."
   ]
  },
  {
   "cell_type": "code",
   "execution_count": 36,
   "id": "733e95a3",
   "metadata": {},
   "outputs": [
    {
     "data": {
      "text/html": [
       "<div>\n",
       "<style scoped>\n",
       "    .dataframe tbody tr th:only-of-type {\n",
       "        vertical-align: middle;\n",
       "    }\n",
       "\n",
       "    .dataframe tbody tr th {\n",
       "        vertical-align: top;\n",
       "    }\n",
       "\n",
       "    .dataframe thead th {\n",
       "        text-align: right;\n",
       "    }\n",
       "</style>\n",
       "<table border=\"1\" class=\"dataframe\">\n",
       "  <thead>\n",
       "    <tr style=\"text-align: right;\">\n",
       "      <th></th>\n",
       "      <th>Actual</th>\n",
       "      <th>Predicted</th>\n",
       "    </tr>\n",
       "  </thead>\n",
       "  <tbody>\n",
       "    <tr>\n",
       "      <th>0</th>\n",
       "      <td>74</td>\n",
       "      <td>68.402901</td>\n",
       "    </tr>\n",
       "    <tr>\n",
       "      <th>1</th>\n",
       "      <td>60</td>\n",
       "      <td>63.935345</td>\n",
       "    </tr>\n",
       "    <tr>\n",
       "      <th>2</th>\n",
       "      <td>67</td>\n",
       "      <td>64.255983</td>\n",
       "    </tr>\n",
       "    <tr>\n",
       "      <th>3</th>\n",
       "      <td>49</td>\n",
       "      <td>63.742962</td>\n",
       "    </tr>\n",
       "    <tr>\n",
       "      <th>4</th>\n",
       "      <td>64</td>\n",
       "      <td>64.213231</td>\n",
       "    </tr>\n",
       "    <tr>\n",
       "      <th>5</th>\n",
       "      <td>60</td>\n",
       "      <td>63.854116</td>\n",
       "    </tr>\n",
       "    <tr>\n",
       "      <th>6</th>\n",
       "      <td>70</td>\n",
       "      <td>65.324776</td>\n",
       "    </tr>\n",
       "    <tr>\n",
       "      <th>7</th>\n",
       "      <td>51</td>\n",
       "      <td>63.742962</td>\n",
       "    </tr>\n",
       "    <tr>\n",
       "      <th>8</th>\n",
       "      <td>58</td>\n",
       "      <td>63.819915</td>\n",
       "    </tr>\n",
       "    <tr>\n",
       "      <th>9</th>\n",
       "      <td>65</td>\n",
       "      <td>63.978096</td>\n",
       "    </tr>\n",
       "    <tr>\n",
       "      <th>10</th>\n",
       "      <td>58</td>\n",
       "      <td>63.845566</td>\n",
       "    </tr>\n",
       "    <tr>\n",
       "      <th>11</th>\n",
       "      <td>62</td>\n",
       "      <td>63.871217</td>\n",
       "    </tr>\n",
       "    <tr>\n",
       "      <th>12</th>\n",
       "      <td>72</td>\n",
       "      <td>66.949342</td>\n",
       "    </tr>\n",
       "    <tr>\n",
       "      <th>13</th>\n",
       "      <td>66</td>\n",
       "      <td>64.298734</td>\n",
       "    </tr>\n",
       "    <tr>\n",
       "      <th>14</th>\n",
       "      <td>58</td>\n",
       "      <td>63.845566</td>\n",
       "    </tr>\n",
       "    <tr>\n",
       "      <th>15</th>\n",
       "      <td>74</td>\n",
       "      <td>71.395522</td>\n",
       "    </tr>\n",
       "    <tr>\n",
       "      <th>16</th>\n",
       "      <td>69</td>\n",
       "      <td>64.726252</td>\n",
       "    </tr>\n",
       "    <tr>\n",
       "      <th>17</th>\n",
       "      <td>68</td>\n",
       "      <td>64.320110</td>\n",
       "    </tr>\n",
       "    <tr>\n",
       "      <th>18</th>\n",
       "      <td>68</td>\n",
       "      <td>64.640748</td>\n",
       "    </tr>\n",
       "    <tr>\n",
       "      <th>19</th>\n",
       "      <td>62</td>\n",
       "      <td>63.956720</td>\n",
       "    </tr>\n",
       "  </tbody>\n",
       "</table>\n",
       "</div>"
      ],
      "text/plain": [
       "    Actual  Predicted\n",
       "0       74  68.402901\n",
       "1       60  63.935345\n",
       "2       67  64.255983\n",
       "3       49  63.742962\n",
       "4       64  64.213231\n",
       "5       60  63.854116\n",
       "6       70  65.324776\n",
       "7       51  63.742962\n",
       "8       58  63.819915\n",
       "9       65  63.978096\n",
       "10      58  63.845566\n",
       "11      62  63.871217\n",
       "12      72  66.949342\n",
       "13      66  64.298734\n",
       "14      58  63.845566\n",
       "15      74  71.395522\n",
       "16      69  64.726252\n",
       "17      68  64.320110\n",
       "18      68  64.640748\n",
       "19      62  63.956720"
      ]
     },
     "execution_count": 36,
     "metadata": {},
     "output_type": "execute_result"
    }
   ],
   "source": [
    "# The code below will create a dataframe that will allow us to compare the actual y values with thee predicted y values.\n",
    "data_fifa21 = pd.DataFrame({'Actual': y_test.flatten(), 'Predicted': y_predicted.flatten()})\n",
    "data_fifa21.head(20)\n"
   ]
  },
  {
   "cell_type": "markdown",
   "id": "dd9b0220",
   "metadata": {},
   "source": [
    "# Include your thoughts on how well the model performed on the test set in a markdown cell."
   ]
  },
  {
   "cell_type": "markdown",
   "id": "b26d39a2",
   "metadata": {},
   "source": [
    "### We can clearly see that the model doesn't do a great job at explaining the relationship between the players' value in euro and the players' overall performance. We can see that the data points don't follow the regression line, giving us an indication that the relationship between these two varaibles can't be explained by a regression model. To further amphasize that, we can see that the R2 score is also relatively low telling us that the relationship is not a great fit either. Another fact pointing at the model not doing a great job at explaining the relationship between the two variables is the difference in values between the actual and predicted y values."
   ]
  },
  {
   "cell_type": "code",
   "execution_count": null,
   "id": "d58e3c7c",
   "metadata": {},
   "outputs": [],
   "source": []
  }
 ],
 "metadata": {
  "kernelspec": {
   "display_name": "Python 3",
   "language": "python",
   "name": "python3"
  },
  "language_info": {
   "codemirror_mode": {
    "name": "ipython",
    "version": 3
   },
   "file_extension": ".py",
   "mimetype": "text/x-python",
   "name": "python",
   "nbconvert_exporter": "python",
   "pygments_lexer": "ipython3",
   "version": "3.8.8"
  }
 },
 "nbformat": 4,
 "nbformat_minor": 5
}
