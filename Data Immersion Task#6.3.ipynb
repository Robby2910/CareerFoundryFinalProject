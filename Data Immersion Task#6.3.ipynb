{
 "cells": [
  {
   "cell_type": "markdown",
   "id": "5f022dfd",
   "metadata": {},
   "source": [
    "# Importing Libraries and data sets"
   ]
  },
  {
   "cell_type": "code",
   "execution_count": 1,
   "id": "9a248e9b",
   "metadata": {},
   "outputs": [],
   "source": [
    "# Iporting libaries\n",
    "import pandas as pd\n",
    "import numpy as np\n",
    "import seaborn as sns\n",
    "import matplotlib.pyplot as plt\n",
    "import matplotlib\n",
    "import os\n",
    "import folium\n",
    "import json"
   ]
  },
  {
   "cell_type": "code",
   "execution_count": 2,
   "id": "4a9f73ae",
   "metadata": {},
   "outputs": [],
   "source": [
    "%matplotlib inline"
   ]
  },
  {
   "cell_type": "code",
   "execution_count": 3,
   "id": "22daa2dd",
   "metadata": {},
   "outputs": [],
   "source": [
    "# The code below will create a path that will help import the data set for analysis.\n",
    "path_fifa21_new = r'/Users/robertochidiac/Desktop/CareerFoundry Achievement 6/Data/prepared data/fifa21_data_set.csv'"
   ]
  },
  {
   "cell_type": "code",
   "execution_count": 4,
   "id": "a2e18264",
   "metadata": {},
   "outputs": [],
   "source": [
    "# the code below will import the data\n",
    "df_fifa21_new = pd.read_csv(os.path.join(path_fifa21_new), index_col = False)"
   ]
  },
  {
   "cell_type": "code",
   "execution_count": 5,
   "id": "af806aa6",
   "metadata": {},
   "outputs": [
    {
     "data": {
      "text/html": [
       "<div>\n",
       "<style scoped>\n",
       "    .dataframe tbody tr th:only-of-type {\n",
       "        vertical-align: middle;\n",
       "    }\n",
       "\n",
       "    .dataframe tbody tr th {\n",
       "        vertical-align: top;\n",
       "    }\n",
       "\n",
       "    .dataframe thead th {\n",
       "        text-align: right;\n",
       "    }\n",
       "</style>\n",
       "<table border=\"1\" class=\"dataframe\">\n",
       "  <thead>\n",
       "    <tr style=\"text-align: right;\">\n",
       "      <th></th>\n",
       "      <th>short_name</th>\n",
       "      <th>age</th>\n",
       "      <th>dob</th>\n",
       "      <th>height_cm</th>\n",
       "      <th>weight_kg</th>\n",
       "      <th>country</th>\n",
       "      <th>club_name</th>\n",
       "      <th>league_name</th>\n",
       "      <th>overall_performance</th>\n",
       "      <th>potential_performance</th>\n",
       "      <th>value_eur</th>\n",
       "      <th>wage_eur</th>\n",
       "      <th>preferred_foot</th>\n",
       "      <th>weak_foot</th>\n",
       "      <th>release_clause_eur</th>\n",
       "      <th>player_position</th>\n",
       "      <th>team_jersey_number</th>\n",
       "      <th>joined_team</th>\n",
       "      <th>contract_valid_until</th>\n",
       "    </tr>\n",
       "  </thead>\n",
       "  <tbody>\n",
       "    <tr>\n",
       "      <th>0</th>\n",
       "      <td>L. Messi</td>\n",
       "      <td>33</td>\n",
       "      <td>6/24/87</td>\n",
       "      <td>170</td>\n",
       "      <td>72</td>\n",
       "      <td>Argentina</td>\n",
       "      <td>FC Barcelona</td>\n",
       "      <td>Spain Primera Division</td>\n",
       "      <td>93</td>\n",
       "      <td>93</td>\n",
       "      <td>67500000</td>\n",
       "      <td>560000</td>\n",
       "      <td>Left</td>\n",
       "      <td>4</td>\n",
       "      <td>138400000.0</td>\n",
       "      <td>CAM</td>\n",
       "      <td>10.0</td>\n",
       "      <td>7/1/04</td>\n",
       "      <td>2021.0</td>\n",
       "    </tr>\n",
       "    <tr>\n",
       "      <th>1</th>\n",
       "      <td>Cristiano Ronaldo</td>\n",
       "      <td>35</td>\n",
       "      <td>2/5/85</td>\n",
       "      <td>187</td>\n",
       "      <td>83</td>\n",
       "      <td>Portugal</td>\n",
       "      <td>Juventus</td>\n",
       "      <td>Italian Serie A</td>\n",
       "      <td>92</td>\n",
       "      <td>92</td>\n",
       "      <td>46000000</td>\n",
       "      <td>220000</td>\n",
       "      <td>Right</td>\n",
       "      <td>4</td>\n",
       "      <td>75900000.0</td>\n",
       "      <td>LS</td>\n",
       "      <td>7.0</td>\n",
       "      <td>7/10/18</td>\n",
       "      <td>2022.0</td>\n",
       "    </tr>\n",
       "    <tr>\n",
       "      <th>2</th>\n",
       "      <td>J. Oblak</td>\n",
       "      <td>27</td>\n",
       "      <td>1/7/93</td>\n",
       "      <td>188</td>\n",
       "      <td>87</td>\n",
       "      <td>Slovenia</td>\n",
       "      <td>Atlético Madrid</td>\n",
       "      <td>Spain Primera Division</td>\n",
       "      <td>91</td>\n",
       "      <td>93</td>\n",
       "      <td>75000000</td>\n",
       "      <td>125000</td>\n",
       "      <td>Right</td>\n",
       "      <td>3</td>\n",
       "      <td>159400000.0</td>\n",
       "      <td>GK</td>\n",
       "      <td>13.0</td>\n",
       "      <td>7/16/14</td>\n",
       "      <td>2023.0</td>\n",
       "    </tr>\n",
       "    <tr>\n",
       "      <th>3</th>\n",
       "      <td>R. Lewandowski</td>\n",
       "      <td>31</td>\n",
       "      <td>8/21/88</td>\n",
       "      <td>184</td>\n",
       "      <td>80</td>\n",
       "      <td>Poland</td>\n",
       "      <td>FC Bayern München</td>\n",
       "      <td>German 1. Bundesliga</td>\n",
       "      <td>91</td>\n",
       "      <td>91</td>\n",
       "      <td>80000000</td>\n",
       "      <td>240000</td>\n",
       "      <td>Right</td>\n",
       "      <td>4</td>\n",
       "      <td>132000000.0</td>\n",
       "      <td>ST</td>\n",
       "      <td>9.0</td>\n",
       "      <td>7/1/14</td>\n",
       "      <td>2023.0</td>\n",
       "    </tr>\n",
       "    <tr>\n",
       "      <th>4</th>\n",
       "      <td>Neymar Jr</td>\n",
       "      <td>28</td>\n",
       "      <td>2/5/92</td>\n",
       "      <td>175</td>\n",
       "      <td>68</td>\n",
       "      <td>Brazil</td>\n",
       "      <td>Paris Saint-Germain</td>\n",
       "      <td>French Ligue 1</td>\n",
       "      <td>91</td>\n",
       "      <td>91</td>\n",
       "      <td>90000000</td>\n",
       "      <td>270000</td>\n",
       "      <td>Right</td>\n",
       "      <td>5</td>\n",
       "      <td>166500000.0</td>\n",
       "      <td>LW</td>\n",
       "      <td>10.0</td>\n",
       "      <td>8/3/17</td>\n",
       "      <td>2022.0</td>\n",
       "    </tr>\n",
       "  </tbody>\n",
       "</table>\n",
       "</div>"
      ],
      "text/plain": [
       "          short_name  age      dob  height_cm  weight_kg    country  \\\n",
       "0           L. Messi   33  6/24/87        170         72  Argentina   \n",
       "1  Cristiano Ronaldo   35   2/5/85        187         83   Portugal   \n",
       "2           J. Oblak   27   1/7/93        188         87   Slovenia   \n",
       "3     R. Lewandowski   31  8/21/88        184         80     Poland   \n",
       "4          Neymar Jr   28   2/5/92        175         68     Brazil   \n",
       "\n",
       "             club_name             league_name  overall_performance  \\\n",
       "0         FC Barcelona  Spain Primera Division                   93   \n",
       "1             Juventus         Italian Serie A                   92   \n",
       "2      Atlético Madrid  Spain Primera Division                   91   \n",
       "3    FC Bayern München    German 1. Bundesliga                   91   \n",
       "4  Paris Saint-Germain          French Ligue 1                   91   \n",
       "\n",
       "   potential_performance  value_eur  wage_eur preferred_foot  weak_foot  \\\n",
       "0                     93   67500000    560000           Left          4   \n",
       "1                     92   46000000    220000          Right          4   \n",
       "2                     93   75000000    125000          Right          3   \n",
       "3                     91   80000000    240000          Right          4   \n",
       "4                     91   90000000    270000          Right          5   \n",
       "\n",
       "   release_clause_eur player_position  team_jersey_number joined_team  \\\n",
       "0         138400000.0             CAM                10.0      7/1/04   \n",
       "1          75900000.0              LS                 7.0     7/10/18   \n",
       "2         159400000.0              GK                13.0     7/16/14   \n",
       "3         132000000.0              ST                 9.0      7/1/14   \n",
       "4         166500000.0              LW                10.0      8/3/17   \n",
       "\n",
       "   contract_valid_until  \n",
       "0                2021.0  \n",
       "1                2022.0  \n",
       "2                2023.0  \n",
       "3                2023.0  \n",
       "4                2022.0  "
      ]
     },
     "execution_count": 5,
     "metadata": {},
     "output_type": "execute_result"
    }
   ],
   "source": [
    "# The code below will show the first five rows of the data frame\n",
    "df_fifa21_new.head().drop(['Unnamed: 0'], axis = 1)"
   ]
  },
  {
   "cell_type": "markdown",
   "id": "08da7dbf",
   "metadata": {},
   "source": [
    "# Importing json file and plotting Choropleth map"
   ]
  },
  {
   "cell_type": "code",
   "execution_count": 6,
   "id": "9ebae5ed",
   "metadata": {},
   "outputs": [],
   "source": [
    "# the code below will import the json file I choose and import it as a string\n",
    "country_geo = r'/Users/robertochidiac/Desktop/CareerFoundry Achievement 6/Data/original data/countries.geojson'"
   ]
  },
  {
   "cell_type": "code",
   "execution_count": 7,
   "id": "ef5d4fa9",
   "metadata": {},
   "outputs": [
    {
     "data": {
      "text/plain": [
       "'/Users/robertochidiac/Desktop/CareerFoundry Achievement 6/Data/original data/countries.geojson'"
      ]
     },
     "execution_count": 7,
     "metadata": {},
     "output_type": "execute_result"
    }
   ],
   "source": [
    "country_geo"
   ]
  },
  {
   "cell_type": "code",
   "execution_count": 8,
   "id": "84e75e2c",
   "metadata": {},
   "outputs": [],
   "source": [
    "# The codes below will create a subset that will help plot the choropleth map\n",
    "data_to_plot = df_fifa21_new[['country', 'overall_performance']]"
   ]
  },
  {
   "cell_type": "code",
   "execution_count": 9,
   "id": "eff11f5f",
   "metadata": {},
   "outputs": [
    {
     "data": {
      "text/plain": [
       "<folium.map.LayerControl at 0x7f87a6ee2430>"
      ]
     },
     "execution_count": 9,
     "metadata": {},
     "output_type": "execute_result"
    }
   ],
   "source": [
    "# The code below will create the choropleth map\n",
    "map = folium.Map(location = [100, 0], zoom_start = 1.5)\n",
    "\n",
    "folium.Choropleth(\n",
    "    geo_data = country_geo, \n",
    "    data = data_to_plot,\n",
    "    columns = ['country', 'overall_performance'],\n",
    "    key_on = 'feature.properties.ADMIN',\n",
    "    fill_color = 'OrRd', fill_opacity=0.5, line_opacity=0.2,\n",
    "    legend_name = \"rating\").add_to(map)\n",
    "\n",
    "folium.LayerControl().add_to(map)"
   ]
  },
  {
   "cell_type": "code",
   "execution_count": null,
   "id": "251ec017",
   "metadata": {},
   "outputs": [],
   "source": []
  },
  {
   "cell_type": "markdown",
   "id": "cddb19c2",
   "metadata": {},
   "source": [
    "### The choropleth map above was created to show the countries that have players with the highest performance. First, we need to understand that the countries with the darker shade that is not in the legend are countries for which there is no data. From the legend we can also understand that the countries with the darker shade of orange are the countries where the players with the highest performance come from. And as the shade becomes clearer, these countries have less players with high performance. With that in mind the data definitely answer the question as to which countries have the most best performing players.\n"
   ]
  }
 ],
 "metadata": {
  "kernelspec": {
   "display_name": "Python 3",
   "language": "python",
   "name": "python3"
  },
  "language_info": {
   "codemirror_mode": {
    "name": "ipython",
    "version": 3
   },
   "file_extension": ".py",
   "mimetype": "text/x-python",
   "name": "python",
   "nbconvert_exporter": "python",
   "pygments_lexer": "ipython3",
   "version": "3.8.8"
  }
 },
 "nbformat": 4,
 "nbformat_minor": 5
}
